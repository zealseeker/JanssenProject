{
 "cells": [
  {
   "cell_type": "code",
   "execution_count": 1,
   "metadata": {},
   "outputs": [],
   "source": [
    "import os\n",
    "import pandas as pd\n",
    "import numpy as np"
   ]
  },
  {
   "cell_type": "code",
   "execution_count": 32,
   "metadata": {},
   "outputs": [],
   "source": [
    "import sys\n",
    "sys.path.append('../Chemistry')\n",
    "from standardise import *"
   ]
  },
  {
   "cell_type": "code",
   "execution_count": 2,
   "metadata": {},
   "outputs": [],
   "source": [
    "folder = r'C:\\Users\\hy929891\\OneDrive - University of Cambridge\\Projects\\Imaging\\data'"
   ]
  },
  {
   "cell_type": "code",
   "execution_count": 12,
   "metadata": {},
   "outputs": [],
   "source": [
    "tox21 = pd.read_csv(os.path.join(folder, 'tox21_10k_library_info.tsv'), sep='\\t')\n",
    "tcids = tox21['PUBCHEM_CID'].dropna().astype(int).astype(str).unique()"
   ]
  },
  {
   "cell_type": "code",
   "execution_count": 13,
   "metadata": {},
   "outputs": [],
   "source": [
    "with open('tox21_cids.txt', 'w') as fp:\n",
    "    fp.write('\\n'.join(tcids))"
   ]
  },
  {
   "cell_type": "markdown",
   "metadata": {},
   "source": [
    "Then use PubChem service to transfer CIDs into SMILES\n",
    "https://pubchem.ncbi.nlm.nih.gov/pc_fetch/pc_fetch.cgi\n",
    "\n",
    "Download the results file and rename it to \"tox21_smiles.txt\"\n",
    "\n",
    "The first column is PUBCHEMID and the second is the SMILES"
   ]
  },
  {
   "cell_type": "code",
   "execution_count": 26,
   "metadata": {},
   "outputs": [],
   "source": [
    "from chembl_structure_pipeline import standardizer\n",
    "from rdkit import Chem"
   ]
  },
  {
   "cell_type": "code",
   "execution_count": 35,
   "metadata": {},
   "outputs": [],
   "source": [
    "df = pd.read_csv('tox21_smiles.txt', sep='\\t', header=None, index_col=0)\n",
    "df.columns = ['pubchem_smiles']\n",
    "df.index.name=None"
   ]
  },
  {
   "cell_type": "code",
   "execution_count": 38,
   "metadata": {},
   "outputs": [
    {
     "name": "stderr",
     "output_type": "stream",
     "text": [
      "../Chemistry\\standardise.py:13: UserWarning: SMILES: F[Si-2](F)(F)(F)(F)F.[Na+].[Na+] is invalid\n",
      "  warnings.warn('SMILES: {} is invalid'.format(smi))\n",
      "../Chemistry\\standardise.py:13: UserWarning: SMILES: [NH4+].[NH4+].F[Si-2](F)(F)(F)(F)F is invalid\n",
      "  warnings.warn('SMILES: {} is invalid'.format(smi))\n"
     ]
    }
   ],
   "source": [
    "df = standardise_dataframe(df, 'pubchem_smiles')"
   ]
  },
  {
   "cell_type": "code",
   "execution_count": 40,
   "metadata": {},
   "outputs": [],
   "source": [
    "df.to_csv('tox21_inchikey.csv')"
   ]
  }
 ],
 "metadata": {
  "kernelspec": {
   "display_name": "Python 3",
   "language": "python",
   "name": "python3"
  },
  "language_info": {
   "codemirror_mode": {
    "name": "ipython",
    "version": 3
   },
   "file_extension": ".py",
   "mimetype": "text/x-python",
   "name": "python",
   "nbconvert_exporter": "python",
   "pygments_lexer": "ipython3",
   "version": "3.7.3"
  }
 },
 "nbformat": 4,
 "nbformat_minor": 4
}
