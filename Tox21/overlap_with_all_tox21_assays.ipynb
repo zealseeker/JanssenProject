{
 "cells": [
  {
   "cell_type": "code",
   "execution_count": 1,
   "metadata": {},
   "outputs": [],
   "source": [
    "import pandas as pd\n",
    "from tqdm import tqdm_notebook as tqdm\n",
    "from io import StringIO\n",
    "import requests\n",
    "import os"
   ]
  },
  {
   "cell_type": "markdown",
   "metadata": {},
   "source": [
    "The codes are based on this notebook\n",
    "\n",
    "https://github.com/flatkinson/EU-ToxRisk_Tox21/blob/master/0_Tox21_assays.ipynb"
   ]
  },
  {
   "cell_type": "code",
   "execution_count": 2,
   "metadata": {},
   "outputs": [],
   "source": [
    "aids_url = 'https://pubchem.ncbi.nlm.nih.gov/rest/pug/assay/sourceall/tox21/aids/JSON'\n",
    "tox21_summary_url = \"https://pubchem.ncbi.nlm.nih.gov/rest/pug/assay/aid/{aid}/summary/JSON\"\n",
    "tox21_description_url = 'https://pubchem.ncbi.nlm.nih.gov/rest/pug/assay/aid/{aid}/description/JSON'\n",
    "tox21_data_table = 'https://pubchem.ncbi.nlm.nih.gov/assay/pcget.cgi?query=download&record_type=datatable&actvty=all&aid={aid}'\n",
    "data_dir = r\"C:\\Users\\hy929891\\OneDrive - University of Cambridge\\Projects\\Imaging\\data\""
   ]
  },
  {
   "cell_type": "code",
   "execution_count": 3,
   "metadata": {},
   "outputs": [
    {
     "data": {
      "text/plain": [
       "224"
      ]
     },
     "execution_count": 3,
     "metadata": {},
     "output_type": "execute_result"
    }
   ],
   "source": [
    "# Get list of AIDs associated with Tox21...\n",
    "aids = requests.get(aids_url).json()['IdentifierList']['AID']\n",
    "len(aids)"
   ]
  },
  {
   "cell_type": "code",
   "execution_count": 4,
   "metadata": {},
   "outputs": [
    {
     "data": {
      "application/vnd.jupyter.widget-view+json": {
       "model_id": "41b89164448f488cba81a6021934c880",
       "version_major": 2,
       "version_minor": 0
      },
      "text/plain": [
       "HBox(children=(IntProgress(value=0, max=224), HTML(value='')))"
      ]
     },
     "metadata": {},
     "output_type": "display_data"
    },
    {
     "name": "stdout",
     "output_type": "stream",
     "text": [
      "\n",
      "59\n"
     ]
    },
    {
     "data": {
      "text/html": [
       "<div>\n",
       "<style scoped>\n",
       "    .dataframe tbody tr th:only-of-type {\n",
       "        vertical-align: middle;\n",
       "    }\n",
       "\n",
       "    .dataframe tbody tr th {\n",
       "        vertical-align: top;\n",
       "    }\n",
       "\n",
       "    .dataframe thead th {\n",
       "        text-align: right;\n",
       "    }\n",
       "</style>\n",
       "<table border=\"1\" class=\"dataframe\">\n",
       "  <thead>\n",
       "    <tr style=\"text-align: right;\">\n",
       "      <th></th>\n",
       "      <th>AID</th>\n",
       "      <th>assay_name</th>\n",
       "      <th>method</th>\n",
       "      <th>target</th>\n",
       "      <th>gene_id</th>\n",
       "      <th>protocol</th>\n",
       "    </tr>\n",
       "  </thead>\n",
       "  <tbody>\n",
       "    <tr>\n",
       "      <th>4</th>\n",
       "      <td>1347038</td>\n",
       "      <td>Thyrotropin-releasing hormone receptor (TRHR) ...</td>\n",
       "      <td>summary</td>\n",
       "      <td>Thyrotropin-releasing hormone receptor</td>\n",
       "      <td>464921</td>\n",
       "      <td>Please refer to other AIDs, 1346877, 720680, 7...</td>\n",
       "    </tr>\n",
       "    <tr>\n",
       "      <th>5</th>\n",
       "      <td>1347037</td>\n",
       "      <td>Caspase-3/7 induction in CHO-K1 cells by small...</td>\n",
       "      <td>summary</td>\n",
       "      <td></td>\n",
       "      <td></td>\n",
       "      <td>Please refer to other AIDs,1346978 and 1346979...</td>\n",
       "    </tr>\n",
       "    <tr>\n",
       "      <th>6</th>\n",
       "      <td>1347036</td>\n",
       "      <td>Progesterone receptor (PR) small molecule agon...</td>\n",
       "      <td>summary</td>\n",
       "      <td>progesterone receptor [Homo sapiens]</td>\n",
       "      <td>82393684</td>\n",
       "      <td>Please refer to other AIDs 1346784, 1346799, 7...</td>\n",
       "    </tr>\n",
       "    <tr>\n",
       "      <th>7</th>\n",
       "      <td>1347035</td>\n",
       "      <td>TGF-beta/Smad small molecule agonists, qHTS as...</td>\n",
       "      <td>summary</td>\n",
       "      <td></td>\n",
       "      <td></td>\n",
       "      <td>Please refer to other AIDs 1346859, 1346829, 7...</td>\n",
       "    </tr>\n",
       "    <tr>\n",
       "      <th>8</th>\n",
       "      <td>1347034</td>\n",
       "      <td>Caspase-3/7 induction in HepG2 cells by small ...</td>\n",
       "      <td>summary</td>\n",
       "      <td>caspase-3</td>\n",
       "      <td>16516817</td>\n",
       "      <td>Please refer to other AIDs, 1346978 and 134698...</td>\n",
       "    </tr>\n",
       "  </tbody>\n",
       "</table>\n",
       "</div>"
      ],
      "text/plain": [
       "       AID                                         assay_name   method  \\\n",
       "4  1347038  Thyrotropin-releasing hormone receptor (TRHR) ...  summary   \n",
       "5  1347037  Caspase-3/7 induction in CHO-K1 cells by small...  summary   \n",
       "6  1347036  Progesterone receptor (PR) small molecule agon...  summary   \n",
       "7  1347035  TGF-beta/Smad small molecule agonists, qHTS as...  summary   \n",
       "8  1347034  Caspase-3/7 induction in HepG2 cells by small ...  summary   \n",
       "\n",
       "                                   target   gene_id  \\\n",
       "4  Thyrotropin-releasing hormone receptor    464921   \n",
       "5                                                     \n",
       "6    progesterone receptor [Homo sapiens]  82393684   \n",
       "7                                                     \n",
       "8                               caspase-3  16516817   \n",
       "\n",
       "                                            protocol  \n",
       "4  Please refer to other AIDs, 1346877, 720680, 7...  \n",
       "5  Please refer to other AIDs,1346978 and 1346979...  \n",
       "6  Please refer to other AIDs 1346784, 1346799, 7...  \n",
       "7  Please refer to other AIDs 1346859, 1346829, 7...  \n",
       "8  Please refer to other AIDs, 1346978 and 134698...  "
      ]
     },
     "execution_count": 4,
     "metadata": {},
     "output_type": "execute_result"
    }
   ],
   "source": [
    "def f(aid): \n",
    "    assay = requests.get(tox21_summary_url.format(aid=aid)).json()['AssaySummaries']['AssaySummary'][0]\n",
    "    assay_name, method = [assay[x] for x in ('Name', 'Method')]\n",
    "    try:\n",
    "        gene_id = assay['Target'][0]['GI']\n",
    "        target = assay['Target'][0]['Name']\n",
    "    except:\n",
    "        gene_id, target = '', ''\n",
    "    protocol = assay['Protocol'][0] if assay_name.endswith(': Summary') else ''\n",
    "    return aid, assay_name, method, target, gene_id, protocol\n",
    "tox21_assays_df = pd.DataFrame([f(x) for x in tqdm(aids)], columns=['AID', 'assay_name', 'method', 'target','gene_id', 'protocol'])\n",
    "tox21_summary_assays_df = tox21_assays_df[tox21_assays_df['method']=='summary']\n",
    "print(len(tox21_summary_assays_df))\n",
    "tox21_summary_assays_df.head()"
   ]
  },
  {
   "cell_type": "code",
   "execution_count": 5,
   "metadata": {},
   "outputs": [],
   "source": [
    "tox21_summary_assays_df.to_csv('scratch/tox21_summary_assays.csv')"
   ]
  },
  {
   "cell_type": "code",
   "execution_count": 6,
   "metadata": {},
   "outputs": [],
   "source": [
    "tox21_inchikey = pd.read_csv('tox21_inchikey.csv', index_col=0)\n",
    "janssen_inchikey = pd.read_csv('janssen_inchikey.csv', header=None)"
   ]
  },
  {
   "cell_type": "code",
   "execution_count": 22,
   "metadata": {},
   "outputs": [
    {
     "data": {
      "application/vnd.jupyter.widget-view+json": {
       "model_id": "248e7bb45c8e4a3686d98addd893e9b9",
       "version_major": 2,
       "version_minor": 0
      },
      "text/plain": [
       "HBox(children=(IntProgress(value=0, max=59), HTML(value='')))"
      ]
     },
     "metadata": {},
     "output_type": "display_data"
    },
    {
     "name": "stdout",
     "output_type": "stream",
     "text": [
      "\n"
     ]
    },
    {
     "name": "stderr",
     "output_type": "stream",
     "text": [
      "C:\\Anaconda3\\lib\\site-packages\\ipykernel_launcher.py:25: FutureWarning: Sorting because non-concatenation axis is not aligned. A future version\n",
      "of pandas will change to not sort by default.\n",
      "\n",
      "To accept the future behavior, pass 'sort=False'.\n",
      "\n",
      "To retain the current behavior and silence the warning, pass 'sort=True'.\n",
      "\n"
     ]
    }
   ],
   "source": [
    "original_agg_data = []\n",
    "janssen_overlap_data = []\n",
    "assay_all = {'aid': [], 'value': [], 'cid': []}\n",
    "i = 0\n",
    "for _, assay in tqdm(tox21_summary_assays_df.iterrows(), total=len(tox21_summary_assays_df)):\n",
    "    aid = assay['AID']\n",
    "    res = requests.get(tox21_data_table.format(aid=aid)).text\n",
    "    act_df = pd.read_csv(StringIO(res)).iloc[5:]\n",
    "    act_df['std_inchi_key'] = act_df['PUBCHEM_CID'].map(tox21_inchikey['std_inchi_key'])\n",
    "    for idx, row in act_df.iterrows():\n",
    "        try:\n",
    "            # cid can be NaN; then remove it.\n",
    "            assay_all['cid'].append(int(row['PUBCHEM_CID']))\n",
    "        except:\n",
    "            continue\n",
    "        assay_all['aid'].append(aid)\n",
    "        assay_all['value'].append(row['PUBCHEM_ACTIVITY_OUTCOME'])\n",
    "    act_df = act_df.drop_duplicates('std_inchi_key')\n",
    "    s = act_df.groupby('PUBCHEM_ACTIVITY_OUTCOME').agg('count').iloc[:, 0]\n",
    "    s.name = aid\n",
    "    original_agg_data.append(s)\n",
    "    s = act_df[act_df['std_inchi_key'].isin(janssen_inchikey[1])].groupby('PUBCHEM_ACTIVITY_OUTCOME').agg('count').iloc[:, 0]\n",
    "    s.name = aid\n",
    "    janssen_overlap_data.append(s)\n",
    "janssen_overlap_df = pd.concat(janssen_overlap_data, axis=1).T\n",
    "janssen_overlap_df.columns = [x + '_Janssen' for x in janssen_overlap_df.columns]\n",
    "original_agg_df = pd.concat(original_agg_data, axis=1).T\n",
    "original_agg_df.columns = [x + '_original' for x in original_agg_df.columns]\n",
    "assay_all_df = pd.DataFrame(assay_all)"
   ]
  },
  {
   "cell_type": "code",
   "execution_count": 23,
   "metadata": {},
   "outputs": [
    {
     "data": {
      "text/html": [
       "<div>\n",
       "<style scoped>\n",
       "    .dataframe tbody tr th:only-of-type {\n",
       "        vertical-align: middle;\n",
       "    }\n",
       "\n",
       "    .dataframe tbody tr th {\n",
       "        vertical-align: top;\n",
       "    }\n",
       "\n",
       "    .dataframe thead th {\n",
       "        text-align: right;\n",
       "    }\n",
       "</style>\n",
       "<table border=\"1\" class=\"dataframe\">\n",
       "  <thead>\n",
       "    <tr style=\"text-align: right;\">\n",
       "      <th></th>\n",
       "      <th>Active_Janssen</th>\n",
       "      <th>Inactive_Janssen</th>\n",
       "      <th>Inconclusive_Janssen</th>\n",
       "      <th>Active_original</th>\n",
       "      <th>Inactive_original</th>\n",
       "      <th>Inconclusive_original</th>\n",
       "      <th>assay_name</th>\n",
       "      <th>method</th>\n",
       "      <th>target</th>\n",
       "      <th>gene_id</th>\n",
       "      <th>protocol</th>\n",
       "    </tr>\n",
       "  </thead>\n",
       "  <tbody>\n",
       "    <tr>\n",
       "      <th>1347038</th>\n",
       "      <td>4.0</td>\n",
       "      <td>381.0</td>\n",
       "      <td>11.0</td>\n",
       "      <td>102</td>\n",
       "      <td>6962</td>\n",
       "      <td>200</td>\n",
       "      <td>Thyrotropin-releasing hormone receptor (TRHR) ...</td>\n",
       "      <td>summary</td>\n",
       "      <td>Thyrotropin-releasing hormone receptor</td>\n",
       "      <td>464921</td>\n",
       "      <td>Please refer to other AIDs, 1346877, 720680, 7...</td>\n",
       "    </tr>\n",
       "    <tr>\n",
       "      <th>1347037</th>\n",
       "      <td>19.0</td>\n",
       "      <td>363.0</td>\n",
       "      <td>14.0</td>\n",
       "      <td>180</td>\n",
       "      <td>6943</td>\n",
       "      <td>143</td>\n",
       "      <td>Caspase-3/7 induction in CHO-K1 cells by small...</td>\n",
       "      <td>summary</td>\n",
       "      <td></td>\n",
       "      <td></td>\n",
       "      <td>Please refer to other AIDs,1346978 and 1346979...</td>\n",
       "    </tr>\n",
       "    <tr>\n",
       "      <th>1347036</th>\n",
       "      <td>16.0</td>\n",
       "      <td>363.0</td>\n",
       "      <td>16.0</td>\n",
       "      <td>116</td>\n",
       "      <td>6929</td>\n",
       "      <td>221</td>\n",
       "      <td>Progesterone receptor (PR) small molecule agon...</td>\n",
       "      <td>summary</td>\n",
       "      <td>progesterone receptor [Homo sapiens]</td>\n",
       "      <td>82393684</td>\n",
       "      <td>Please refer to other AIDs 1346784, 1346799, 7...</td>\n",
       "    </tr>\n",
       "    <tr>\n",
       "      <th>1347035</th>\n",
       "      <td>NaN</td>\n",
       "      <td>392.0</td>\n",
       "      <td>4.0</td>\n",
       "      <td>6</td>\n",
       "      <td>7163</td>\n",
       "      <td>97</td>\n",
       "      <td>TGF-beta/Smad small molecule agonists, qHTS as...</td>\n",
       "      <td>summary</td>\n",
       "      <td></td>\n",
       "      <td></td>\n",
       "      <td>Please refer to other AIDs 1346859, 1346829, 7...</td>\n",
       "    </tr>\n",
       "    <tr>\n",
       "      <th>1347034</th>\n",
       "      <td>36.0</td>\n",
       "      <td>335.0</td>\n",
       "      <td>25.0</td>\n",
       "      <td>327</td>\n",
       "      <td>6612</td>\n",
       "      <td>326</td>\n",
       "      <td>Caspase-3/7 induction in HepG2 cells by small ...</td>\n",
       "      <td>summary</td>\n",
       "      <td>caspase-3</td>\n",
       "      <td>16516817</td>\n",
       "      <td>Please refer to other AIDs, 1346978 and 134698...</td>\n",
       "    </tr>\n",
       "  </tbody>\n",
       "</table>\n",
       "</div>"
      ],
      "text/plain": [
       "         Active_Janssen  Inactive_Janssen  Inconclusive_Janssen  \\\n",
       "1347038             4.0             381.0                  11.0   \n",
       "1347037            19.0             363.0                  14.0   \n",
       "1347036            16.0             363.0                  16.0   \n",
       "1347035             NaN             392.0                   4.0   \n",
       "1347034            36.0             335.0                  25.0   \n",
       "\n",
       "         Active_original  Inactive_original  Inconclusive_original  \\\n",
       "1347038              102               6962                    200   \n",
       "1347037              180               6943                    143   \n",
       "1347036              116               6929                    221   \n",
       "1347035                6               7163                     97   \n",
       "1347034              327               6612                    326   \n",
       "\n",
       "                                                assay_name   method  \\\n",
       "1347038  Thyrotropin-releasing hormone receptor (TRHR) ...  summary   \n",
       "1347037  Caspase-3/7 induction in CHO-K1 cells by small...  summary   \n",
       "1347036  Progesterone receptor (PR) small molecule agon...  summary   \n",
       "1347035  TGF-beta/Smad small molecule agonists, qHTS as...  summary   \n",
       "1347034  Caspase-3/7 induction in HepG2 cells by small ...  summary   \n",
       "\n",
       "                                         target   gene_id  \\\n",
       "1347038  Thyrotropin-releasing hormone receptor    464921   \n",
       "1347037                                                     \n",
       "1347036    progesterone receptor [Homo sapiens]  82393684   \n",
       "1347035                                                     \n",
       "1347034                               caspase-3  16516817   \n",
       "\n",
       "                                                  protocol  \n",
       "1347038  Please refer to other AIDs, 1346877, 720680, 7...  \n",
       "1347037  Please refer to other AIDs,1346978 and 1346979...  \n",
       "1347036  Please refer to other AIDs 1346784, 1346799, 7...  \n",
       "1347035  Please refer to other AIDs 1346859, 1346829, 7...  \n",
       "1347034  Please refer to other AIDs, 1346978 and 134698...  "
      ]
     },
     "execution_count": 23,
     "metadata": {},
     "output_type": "execute_result"
    }
   ],
   "source": [
    "assay_all_df.to_csv('scratch/assay_all.csv')\n",
    "summary_df = pd.concat([janssen_overlap_df, original_agg_df], axis=1).join(tox21_summary_assays_df.set_index('AID'))\n",
    "summary_df.to_csv('janssen_overlap_summary.csv')\n",
    "summary_df.head()"
   ]
  },
  {
   "cell_type": "code",
   "execution_count": null,
   "metadata": {},
   "outputs": [],
   "source": []
  }
 ],
 "metadata": {
  "kernelspec": {
   "display_name": "Python 3",
   "language": "python",
   "name": "python3"
  },
  "language_info": {
   "codemirror_mode": {
    "name": "ipython",
    "version": 3
   },
   "file_extension": ".py",
   "mimetype": "text/x-python",
   "name": "python",
   "nbconvert_exporter": "python",
   "pygments_lexer": "ipython3",
   "version": "3.7.3"
  }
 },
 "nbformat": 4,
 "nbformat_minor": 4
}
