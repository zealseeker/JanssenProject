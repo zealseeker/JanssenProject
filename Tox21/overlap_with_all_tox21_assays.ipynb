{
 "cells": [
  {
   "cell_type": "code",
   "execution_count": 1,
   "metadata": {},
   "outputs": [],
   "source": [
    "import pandas as pd\n",
    "from tqdm import tqdm_notebook as tqdm\n",
    "from io import StringIO\n",
    "import requests\n",
    "import os"
   ]
  },
  {
   "cell_type": "markdown",
   "metadata": {},
   "source": [
    "The codes are based on this notebook\n",
    "\n",
    "https://github.com/flatkinson/EU-ToxRisk_Tox21/blob/master/0_Tox21_assays.ipynb"
   ]
  },
  {
   "cell_type": "code",
   "execution_count": 2,
   "metadata": {},
   "outputs": [],
   "source": [
    "aids_url = 'https://pubchem.ncbi.nlm.nih.gov/rest/pug/assay/sourceall/tox21/aids/JSON'\n",
    "tox21_summary_url = \"https://pubchem.ncbi.nlm.nih.gov/rest/pug/assay/aid/{aid}/summary/JSON\"\n",
    "tox21_description_url = 'https://pubchem.ncbi.nlm.nih.gov/rest/pug/assay/aid/{aid}/description/JSON'\n",
    "tox21_data_table = 'https://pubchem.ncbi.nlm.nih.gov/assay/pcget.cgi?query=download&record_type=datatable&actvty=all&aid={aid}'\n",
    "data_dir = r\"C:\\Users\\hy929891\\OneDrive - University of Cambridge\\Projects\\Imaging\\data\""
   ]
  },
  {
   "cell_type": "code",
   "execution_count": 3,
   "metadata": {},
   "outputs": [
    {
     "data": {
      "text/plain": [
       "224"
      ]
     },
     "execution_count": 3,
     "metadata": {},
     "output_type": "execute_result"
    }
   ],
   "source": [
    "# Get list of AIDs associated with Tox21...\n",
    "aids = requests.get(aids_url).json()['IdentifierList']['AID']\n",
    "len(aids)"
   ]
  },
  {
   "cell_type": "code",
   "execution_count": 4,
   "metadata": {},
   "outputs": [
    {
     "data": {
      "application/vnd.jupyter.widget-view+json": {
       "model_id": "100f7184307d4ccbb57308da520e1098",
       "version_major": 2,
       "version_minor": 0
      },
      "text/plain": [
       "HBox(children=(IntProgress(value=0, max=224), HTML(value='')))"
      ]
     },
     "metadata": {},
     "output_type": "display_data"
    },
    {
     "name": "stdout",
     "output_type": "stream",
     "text": [
      "\n",
      "59\n"
     ]
    },
    {
     "data": {
      "text/html": [
       "<div>\n",
       "<style scoped>\n",
       "    .dataframe tbody tr th:only-of-type {\n",
       "        vertical-align: middle;\n",
       "    }\n",
       "\n",
       "    .dataframe tbody tr th {\n",
       "        vertical-align: top;\n",
       "    }\n",
       "\n",
       "    .dataframe thead th {\n",
       "        text-align: right;\n",
       "    }\n",
       "</style>\n",
       "<table border=\"1\" class=\"dataframe\">\n",
       "  <thead>\n",
       "    <tr style=\"text-align: right;\">\n",
       "      <th></th>\n",
       "      <th>AID</th>\n",
       "      <th>assay_name</th>\n",
       "      <th>method</th>\n",
       "      <th>target</th>\n",
       "      <th>gene_id</th>\n",
       "      <th>protocol</th>\n",
       "    </tr>\n",
       "  </thead>\n",
       "  <tbody>\n",
       "    <tr>\n",
       "      <th>4</th>\n",
       "      <td>1347038</td>\n",
       "      <td>Thyrotropin-releasing hormone receptor (TRHR) ...</td>\n",
       "      <td>summary</td>\n",
       "      <td>Thyrotropin-releasing hormone receptor</td>\n",
       "      <td>464921</td>\n",
       "      <td>Please refer to other AIDs, 1346877, 720680, 7...</td>\n",
       "    </tr>\n",
       "    <tr>\n",
       "      <th>5</th>\n",
       "      <td>1347037</td>\n",
       "      <td>Caspase-3/7 induction in CHO-K1 cells by small...</td>\n",
       "      <td>summary</td>\n",
       "      <td></td>\n",
       "      <td></td>\n",
       "      <td>Please refer to other AIDs,1346978 and 1346979...</td>\n",
       "    </tr>\n",
       "    <tr>\n",
       "      <th>6</th>\n",
       "      <td>1347036</td>\n",
       "      <td>Progesterone receptor (PR) small molecule agon...</td>\n",
       "      <td>summary</td>\n",
       "      <td>progesterone receptor [Homo sapiens]</td>\n",
       "      <td>82393684</td>\n",
       "      <td>Please refer to other AIDs 1346784, 1346799, 7...</td>\n",
       "    </tr>\n",
       "    <tr>\n",
       "      <th>7</th>\n",
       "      <td>1347035</td>\n",
       "      <td>TGF-beta/Smad small molecule agonists, qHTS as...</td>\n",
       "      <td>summary</td>\n",
       "      <td></td>\n",
       "      <td></td>\n",
       "      <td>Please refer to other AIDs 1346859, 1346829, 7...</td>\n",
       "    </tr>\n",
       "    <tr>\n",
       "      <th>8</th>\n",
       "      <td>1347034</td>\n",
       "      <td>Caspase-3/7 induction in HepG2 cells by small ...</td>\n",
       "      <td>summary</td>\n",
       "      <td>caspase-3</td>\n",
       "      <td>16516817</td>\n",
       "      <td>Please refer to other AIDs, 1346978 and 134698...</td>\n",
       "    </tr>\n",
       "  </tbody>\n",
       "</table>\n",
       "</div>"
      ],
      "text/plain": [
       "       AID                                         assay_name   method  \\\n",
       "4  1347038  Thyrotropin-releasing hormone receptor (TRHR) ...  summary   \n",
       "5  1347037  Caspase-3/7 induction in CHO-K1 cells by small...  summary   \n",
       "6  1347036  Progesterone receptor (PR) small molecule agon...  summary   \n",
       "7  1347035  TGF-beta/Smad small molecule agonists, qHTS as...  summary   \n",
       "8  1347034  Caspase-3/7 induction in HepG2 cells by small ...  summary   \n",
       "\n",
       "                                   target   gene_id  \\\n",
       "4  Thyrotropin-releasing hormone receptor    464921   \n",
       "5                                                     \n",
       "6    progesterone receptor [Homo sapiens]  82393684   \n",
       "7                                                     \n",
       "8                               caspase-3  16516817   \n",
       "\n",
       "                                            protocol  \n",
       "4  Please refer to other AIDs, 1346877, 720680, 7...  \n",
       "5  Please refer to other AIDs,1346978 and 1346979...  \n",
       "6  Please refer to other AIDs 1346784, 1346799, 7...  \n",
       "7  Please refer to other AIDs 1346859, 1346829, 7...  \n",
       "8  Please refer to other AIDs, 1346978 and 134698...  "
      ]
     },
     "execution_count": 4,
     "metadata": {},
     "output_type": "execute_result"
    }
   ],
   "source": [
    "def f(aid): \n",
    "    assay = requests.get(tox21_summary_url.format(aid=aid)).json()['AssaySummaries']['AssaySummary'][0]\n",
    "    assay_name, method = [assay[x] for x in ('Name', 'Method')]\n",
    "    try:\n",
    "        gene_id = assay['Target'][0]['GI']\n",
    "        target = assay['Target'][0]['Name']\n",
    "    except:\n",
    "        gene_id, target = '', ''\n",
    "    protocol = assay['Protocol'][0] if assay_name.endswith(': Summary') else ''\n",
    "    return aid, assay_name, method, target, gene_id, protocol\n",
    "tox21_assays_df = pd.DataFrame([f(x) for x in tqdm(aids)], columns=['AID', 'assay_name', 'method', 'target','gene_id', 'protocol'])\n",
    "tox21_summary_assays_df = tox21_assays_df[tox21_assays_df['method']=='summary']\n",
    "print(len(tox21_summary_assays_df))\n",
    "tox21_summary_assays_df.head()"
   ]
  },
  {
   "cell_type": "code",
   "execution_count": 5,
   "metadata": {},
   "outputs": [],
   "source": [
    "tox21_inchikey = pd.read_csv('tox21_inchikey.csv', index_col=0)\n",
    "janssen_inchikey = pd.read_csv('janssen_inchikey.csv', header=None)"
   ]
  },
  {
   "cell_type": "code",
   "execution_count": 6,
   "metadata": {},
   "outputs": [
    {
     "data": {
      "application/vnd.jupyter.widget-view+json": {
       "model_id": "6aeb0931188e4b01af70d05495b5def8",
       "version_major": 2,
       "version_minor": 0
      },
      "text/plain": [
       "HBox(children=(IntProgress(value=0, max=59), HTML(value='')))"
      ]
     },
     "metadata": {},
     "output_type": "display_data"
    },
    {
     "name": "stdout",
     "output_type": "stream",
     "text": [
      "\n"
     ]
    },
    {
     "name": "stderr",
     "output_type": "stream",
     "text": [
      "C:\\Anaconda3\\lib\\site-packages\\ipykernel_launcher.py:15: FutureWarning: Sorting because non-concatenation axis is not aligned. A future version\n",
      "of pandas will change to not sort by default.\n",
      "\n",
      "To accept the future behavior, pass 'sort=False'.\n",
      "\n",
      "To retain the current behavior and silence the warning, pass 'sort=True'.\n",
      "\n",
      "  from ipykernel import kernelapp as app\n"
     ]
    }
   ],
   "source": [
    "original_agg_data = []\n",
    "janssen_overlap_data = []\n",
    "i = 0\n",
    "for _, assay in tqdm(tox21_summary_assays_df.iterrows(), total=len(tox21_summary_assays_df)):\n",
    "    aid = assay['AID']\n",
    "    res = requests.get(tox21_data_table.format(aid=aid)).text\n",
    "    act_df = pd.read_csv(StringIO(res)).iloc[5:]\n",
    "    act_df['std_inchi_key'] = act_df['PUBCHEM_CID'].map(tox21_inchikey['std_inchi_key'])\n",
    "    s = act_df.groupby('PUBCHEM_ACTIVITY_OUTCOME').agg('count').iloc[:, 0]\n",
    "    s.name = aid\n",
    "    original_agg_data.append(s)\n",
    "    s = act_df[act_df['std_inchi_key'].isin(janssen_inchikey[1])].groupby('PUBCHEM_ACTIVITY_OUTCOME').agg('count').iloc[:, 0]\n",
    "    s.name = aid\n",
    "    janssen_overlap_data.append(s)\n",
    "janssen_overlap_df = pd.concat(janssen_overlap_data, axis=1).T\n",
    "janssen_overlap_df.columns = [x + '_Janssen' for x in janssen_overlap_df.columns]\n",
    "original_agg_df = pd.concat(original_agg_data, axis=1).T\n",
    "original_agg_df.columns = [x + '_original' for x in original_agg_df.columns]"
   ]
  },
  {
   "cell_type": "code",
   "execution_count": 7,
   "metadata": {},
   "outputs": [
    {
     "data": {
      "text/html": [
       "<div>\n",
       "<style scoped>\n",
       "    .dataframe tbody tr th:only-of-type {\n",
       "        vertical-align: middle;\n",
       "    }\n",
       "\n",
       "    .dataframe tbody tr th {\n",
       "        vertical-align: top;\n",
       "    }\n",
       "\n",
       "    .dataframe thead th {\n",
       "        text-align: right;\n",
       "    }\n",
       "</style>\n",
       "<table border=\"1\" class=\"dataframe\">\n",
       "  <thead>\n",
       "    <tr style=\"text-align: right;\">\n",
       "      <th></th>\n",
       "      <th>Active_Janssen</th>\n",
       "      <th>Inactive_Janssen</th>\n",
       "      <th>Inconclusive_Janssen</th>\n",
       "      <th>Active_original</th>\n",
       "      <th>Inactive_original</th>\n",
       "      <th>Inconclusive_original</th>\n",
       "      <th>assay_name</th>\n",
       "      <th>method</th>\n",
       "      <th>target</th>\n",
       "      <th>gene_id</th>\n",
       "      <th>protocol</th>\n",
       "    </tr>\n",
       "  </thead>\n",
       "  <tbody>\n",
       "    <tr>\n",
       "      <th>1347038</th>\n",
       "      <td>4.0</td>\n",
       "      <td>838.0</td>\n",
       "      <td>14.0</td>\n",
       "      <td>127</td>\n",
       "      <td>9284</td>\n",
       "      <td>253</td>\n",
       "      <td>Thyrotropin-releasing hormone receptor (TRHR) ...</td>\n",
       "      <td>summary</td>\n",
       "      <td>Thyrotropin-releasing hormone receptor</td>\n",
       "      <td>464921</td>\n",
       "      <td>Please refer to other AIDs, 1346877, 720680, 7...</td>\n",
       "    </tr>\n",
       "    <tr>\n",
       "      <th>1347037</th>\n",
       "      <td>25.0</td>\n",
       "      <td>810.0</td>\n",
       "      <td>21.0</td>\n",
       "      <td>219</td>\n",
       "      <td>9269</td>\n",
       "      <td>177</td>\n",
       "      <td>Caspase-3/7 induction in CHO-K1 cells by small...</td>\n",
       "      <td>summary</td>\n",
       "      <td></td>\n",
       "      <td></td>\n",
       "      <td>Please refer to other AIDs,1346978 and 1346979...</td>\n",
       "    </tr>\n",
       "    <tr>\n",
       "      <th>1347036</th>\n",
       "      <td>65.0</td>\n",
       "      <td>768.0</td>\n",
       "      <td>22.0</td>\n",
       "      <td>192</td>\n",
       "      <td>9233</td>\n",
       "      <td>241</td>\n",
       "      <td>Progesterone receptor (PR) small molecule agon...</td>\n",
       "      <td>summary</td>\n",
       "      <td>progesterone receptor [Homo sapiens]</td>\n",
       "      <td>82393684</td>\n",
       "      <td>Please refer to other AIDs 1346784, 1346799, 7...</td>\n",
       "    </tr>\n",
       "    <tr>\n",
       "      <th>1347035</th>\n",
       "      <td>NaN</td>\n",
       "      <td>851.0</td>\n",
       "      <td>5.0</td>\n",
       "      <td>7</td>\n",
       "      <td>9548</td>\n",
       "      <td>111</td>\n",
       "      <td>TGF-beta/Smad small molecule agonists, qHTS as...</td>\n",
       "      <td>summary</td>\n",
       "      <td></td>\n",
       "      <td></td>\n",
       "      <td>Please refer to other AIDs 1346859, 1346829, 7...</td>\n",
       "    </tr>\n",
       "    <tr>\n",
       "      <th>1347034</th>\n",
       "      <td>50.0</td>\n",
       "      <td>761.0</td>\n",
       "      <td>45.0</td>\n",
       "      <td>413</td>\n",
       "      <td>8816</td>\n",
       "      <td>436</td>\n",
       "      <td>Caspase-3/7 induction in HepG2 cells by small ...</td>\n",
       "      <td>summary</td>\n",
       "      <td>caspase-3</td>\n",
       "      <td>16516817</td>\n",
       "      <td>Please refer to other AIDs, 1346978 and 134698...</td>\n",
       "    </tr>\n",
       "  </tbody>\n",
       "</table>\n",
       "</div>"
      ],
      "text/plain": [
       "         Active_Janssen  Inactive_Janssen  Inconclusive_Janssen  \\\n",
       "1347038             4.0             838.0                  14.0   \n",
       "1347037            25.0             810.0                  21.0   \n",
       "1347036            65.0             768.0                  22.0   \n",
       "1347035             NaN             851.0                   5.0   \n",
       "1347034            50.0             761.0                  45.0   \n",
       "\n",
       "         Active_original  Inactive_original  Inconclusive_original  \\\n",
       "1347038              127               9284                    253   \n",
       "1347037              219               9269                    177   \n",
       "1347036              192               9233                    241   \n",
       "1347035                7               9548                    111   \n",
       "1347034              413               8816                    436   \n",
       "\n",
       "                                                assay_name   method  \\\n",
       "1347038  Thyrotropin-releasing hormone receptor (TRHR) ...  summary   \n",
       "1347037  Caspase-3/7 induction in CHO-K1 cells by small...  summary   \n",
       "1347036  Progesterone receptor (PR) small molecule agon...  summary   \n",
       "1347035  TGF-beta/Smad small molecule agonists, qHTS as...  summary   \n",
       "1347034  Caspase-3/7 induction in HepG2 cells by small ...  summary   \n",
       "\n",
       "                                         target   gene_id  \\\n",
       "1347038  Thyrotropin-releasing hormone receptor    464921   \n",
       "1347037                                                     \n",
       "1347036    progesterone receptor [Homo sapiens]  82393684   \n",
       "1347035                                                     \n",
       "1347034                               caspase-3  16516817   \n",
       "\n",
       "                                                  protocol  \n",
       "1347038  Please refer to other AIDs, 1346877, 720680, 7...  \n",
       "1347037  Please refer to other AIDs,1346978 and 1346979...  \n",
       "1347036  Please refer to other AIDs 1346784, 1346799, 7...  \n",
       "1347035  Please refer to other AIDs 1346859, 1346829, 7...  \n",
       "1347034  Please refer to other AIDs, 1346978 and 134698...  "
      ]
     },
     "execution_count": 7,
     "metadata": {},
     "output_type": "execute_result"
    }
   ],
   "source": [
    "summary_df = pd.concat([janssen_overlap_df, original_agg_df], axis=1).join(tox21_summary_assays_df.set_index('AID'))\n",
    "summary_df.to_csv('janssen_overlap_summary.csv')\n",
    "summary_df.head()"
   ]
  }
 ],
 "metadata": {
  "kernelspec": {
   "display_name": "Python 3",
   "language": "python",
   "name": "python3"
  },
  "language_info": {
   "codemirror_mode": {
    "name": "ipython",
    "version": 3
   },
   "file_extension": ".py",
   "mimetype": "text/x-python",
   "name": "python",
   "nbconvert_exporter": "python",
   "pygments_lexer": "ipython3",
   "version": "3.7.3"
  }
 },
 "nbformat": 4,
 "nbformat_minor": 4
}
